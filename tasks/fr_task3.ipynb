{
 "cells": [
  {
   "cell_type": "code",
   "execution_count": 4,
   "metadata": {},
   "outputs": [],
   "source": [
    "import pandas as pd\n",
    "import numpy as np\n",
    "from sklearn.preprocessing import LabelEncoder, OneHotEncoder\n"
   ]
  },
  {
   "cell_type": "code",
   "execution_count": 23,
   "metadata": {},
   "outputs": [],
   "source": [
    "class Task:\n",
    "    # constructor\n",
    "    def __init__(self, csv_path, label_col) -> None:\n",
    "        self.df = pd.read_csv(csv_path)\n",
    "        self.labels = list(set(self.df[label_col]))\n",
    "        self.label_col = label_col\n",
    "        self.features = list(set(self.df.drop([label_col], axis=1).columns))\n"
   ]
  },
  {
   "cell_type": "code",
   "execution_count": 65,
   "metadata": {},
   "outputs": [],
   "source": [
    "class Task3(Task):\n",
    "    def __init__(self) -> None:\n",
    "        super().__init__(\"data/penguins.csv\", \"species\")\n",
    "\n",
    "    def run(self, config) -> None:\n",
    "        self.df = self.df.fillna(\"Unknown\")\n",
    "        gender_encoder = LabelEncoder()\n",
    "        gender_encoder.fit(self.df[\"gender\"])\n",
    "\n",
    "        species_encoder = OneHotEncoder()\n",
    "        species = pd.DataFrame(species_encoder.fit_transform(\n",
    "            self.df[\"species\"].values.reshape(-1, 1)).toarray())\n",
    "\n",
    "        # region train test split\n",
    "\n",
    "        X_train = pd.concat(\n",
    "            [\n",
    "                self.df.drop([self.label_col], axis=1).iloc[1:30],\n",
    "                self.df.drop([self.label_col], axis=1).iloc[50:80],\n",
    "                self.df.drop([self.label_col], axis=1).iloc[100:130],\n",
    "            ]\n",
    "        )\n",
    "        Y_train = pd.concat(\n",
    "            [species.iloc[1:30],\n",
    "             species.iloc[50:80],\n",
    "             species.iloc[100:130]])\n",
    "\n",
    "        X_test = pd.concat(\n",
    "            [\n",
    "                self.df.drop([self.label_col], axis=1).iloc[30:50],\n",
    "                self.df.drop([self.label_col], axis=1).iloc[80:100],\n",
    "                self.df.drop([self.label_col], axis=1).iloc[130:151],\n",
    "            ]\n",
    "        )\n",
    "        Y_test = pd.concat(\n",
    "            [species.iloc[30:50],\n",
    "             species.iloc[80:100],\n",
    "             species.iloc[80:100]])\n",
    "\n",
    "        print(Y_test.shape)\n",
    "\n",
    "        # endregion\n"
   ]
  },
  {
   "cell_type": "code",
   "execution_count": 66,
   "metadata": {},
   "outputs": [
    {
     "name": "stdout",
     "output_type": "stream",
     "text": [
      "(60, 3)\n"
     ]
    }
   ],
   "source": [
    "task = Task3()\n",
    "task.run(None)"
   ]
  }
 ],
 "metadata": {
  "kernelspec": {
   "display_name": "Python 3.10.7 ('.venv': venv)",
   "language": "python",
   "name": "python3"
  },
  "language_info": {
   "codemirror_mode": {
    "name": "ipython",
    "version": 3
   },
   "file_extension": ".py",
   "mimetype": "text/x-python",
   "name": "python",
   "nbconvert_exporter": "python",
   "pygments_lexer": "ipython3",
   "version": "3.10.7"
  },
  "orig_nbformat": 4,
  "vscode": {
   "interpreter": {
    "hash": "8e4868ba78b7186b521f3b4ace0ed538f1c0e5815747535aec4a860d2a198c03"
   }
  }
 },
 "nbformat": 4,
 "nbformat_minor": 2
}
